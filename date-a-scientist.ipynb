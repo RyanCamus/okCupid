{
 "cells": [
  {
   "cell_type": "markdown",
   "metadata": {},
   "source": [
    "## Asking questions\n",
    "\n",
    "The real question here is something I ask myself before the data comes in. For example I want to know if you can guess a person's zodiac sign by the way they write. is there anything Zodiac signs can tell us?\n",
    "\n",
    "### Question 1:\n",
    "What are the clusters in this data? \n",
    "- Maximising accuracy score for KMeans\n",
    "which dimensions best define the clusters? \n",
    "- optimise with different features\n",
    "\n",
    "### Question 2:\n",
    "Can I predict age/zodiac/gender/drug use/drinking from essays?\n",
    "\n",
    "Answering Question 1 First"
   ]
  },
  {
   "cell_type": "markdown",
   "metadata": {},
   "source": [
    "## Collecting and Processing data"
   ]
  },
  {
   "cell_type": "code",
   "execution_count": 5,
   "metadata": {},
   "outputs": [],
   "source": [
    "import numpy as np\n",
    "import pandas as pd\n",
    "profiles = pd.read_csv(\"./profiles.csv\")\n",
    "# got data from an OKCupid profiles dataset"
   ]
  },
  {
   "cell_type": "code",
   "execution_count": 56,
   "metadata": {},
   "outputs": [
    {
     "name": "stdout",
     "output_type": "stream",
     "text": [
      "single            55697\n",
      "seeing someone     2064\n",
      "available          1865\n",
      "married             310\n",
      "unknown              10\n",
      "Name: status, dtype: int64\n",
      "Index(['age', 'body_type', 'diet', 'drinks', 'drugs', 'education', 'essay0',\n",
      "       'essay1', 'essay2', 'essay3', 'essay4', 'essay5', 'essay6', 'essay7',\n",
      "       'essay8', 'essay9', 'ethnicity', 'height', 'income', 'job',\n",
      "       'last_online', 'location', 'offspring', 'orientation', 'pets',\n",
      "       'religion', 'sex', 'sign', 'smokes', 'speaks', 'status'],\n",
      "      dtype='object')\n"
     ]
    }
   ],
   "source": [
    "## Getting to know the data\n",
    "# print(profiles.columns)\n",
    "# print(profiles.dtypes)\n",
    "# print(profiles.income.head())\n",
    "\n",
    "# Data types\n",
    "# for col in profiles.columns:\n",
    "#     print(col)\n",
    "#     print(profiles[col].nunique())\n",
    "\n",
    "print(profiles.status.value_counts())\n",
    "print(profiles.columns)\n",
    "## making lists of features by data type for convenience\n",
    "quant_features = ['age', 'height', 'income']\n",
    "#income is discrete, others continuous. \n",
    "categorical_features = ['body_type', 'diet', 'drinks', 'drugs', 'education', 'location', 'offspring', 'orientation', 'ethnicity', 'job', 'pets', 'religion', 'sex', 'sign', 'smokes', 'speaks', 'status']\n",
    "# speaks has a massive number of combinations, because it differentiates different levels. Be careful\n",
    "language_features = ['essay0','essay1','essay2','essay3','essay4','essay5','essay6','essay7','essay8','essay9']\n",
    "date_features= ['last_online']"
   ]
  },
  {
   "cell_type": "code",
   "execution_count": 61,
   "metadata": {},
   "outputs": [
    {
     "name": "stdout",
     "output_type": "stream",
     "text": [
      "<class 'pandas.core.frame.DataFrame'>\n",
      "Int64Index: 29866 entries, 0 to 59945\n",
      "Data columns (total 31 columns):\n",
      " #   Column       Non-Null Count  Dtype  \n",
      "---  ------       --------------  -----  \n",
      " 0   age          29866 non-null  int64  \n",
      " 1   body_type    27626 non-null  object \n",
      " 2   diet         18720 non-null  object \n",
      " 3   drinks       28912 non-null  object \n",
      " 4   drugs        22751 non-null  object \n",
      " 5   education    27564 non-null  object \n",
      " 6   essay0       29866 non-null  object \n",
      " 7   essay1       29866 non-null  object \n",
      " 8   essay2       29866 non-null  object \n",
      " 9   essay3       29866 non-null  object \n",
      " 10  essay4       29866 non-null  object \n",
      " 11  essay5       29866 non-null  object \n",
      " 12  essay6       29866 non-null  object \n",
      " 13  essay7       29866 non-null  object \n",
      " 14  essay8       29866 non-null  object \n",
      " 15  essay9       29866 non-null  object \n",
      " 16  ethnicity    27616 non-null  object \n",
      " 17  height       29865 non-null  float64\n",
      " 18  income       29866 non-null  int64  \n",
      " 19  job          27157 non-null  object \n",
      " 20  last_online  29866 non-null  object \n",
      " 21  location     29866 non-null  object \n",
      " 22  offspring    12663 non-null  object \n",
      " 23  orientation  29866 non-null  object \n",
      " 24  pets         22163 non-null  object \n",
      " 25  religion     22091 non-null  object \n",
      " 26  sex          29866 non-null  object \n",
      " 27  sign         26117 non-null  object \n",
      " 28  smokes       27790 non-null  object \n",
      " 29  speaks       29851 non-null  object \n",
      " 30  status       29866 non-null  object \n",
      "dtypes: float64(1), int64(2), object(28)\n",
      "memory usage: 7.3+ MB\n",
      "None\n"
     ]
    },
    {
     "data": {
      "text/plain": [
       "scorpio and it&rsquo;s fun to think about        1073\n",
       "gemini and it&rsquo;s fun to think about         1062\n",
       "leo and it&rsquo;s fun to think about             997\n",
       "libra and it&rsquo;s fun to think about           994\n",
       "pisces and it&rsquo;s fun to think about          976\n",
       "taurus and it&rsquo;s fun to think about          971\n",
       "sagittarius and it&rsquo;s fun to think about     967\n",
       "aries and it&rsquo;s fun to think about           954\n",
       "virgo and it&rsquo;s fun to think about           938\n",
       "cancer and it&rsquo;s fun to think about          936\n",
       "aquarius and it&rsquo;s fun to think about        893\n",
       "virgo but it doesn&rsquo;t matter                 823\n",
       "libra but it doesn&rsquo;t matter                 806\n",
       "capricorn and it&rsquo;s fun to think about       803\n",
       "cancer but it doesn&rsquo;t matter                801\n",
       "gemini but it doesn&rsquo;t matter                788\n",
       "leo but it doesn&rsquo;t matter                   781\n",
       "aries but it doesn&rsquo;t matter                 766\n",
       "taurus but it doesn&rsquo;t matter                765\n",
       "aquarius but it doesn&rsquo;t matter              746\n",
       "sagittarius but it doesn&rsquo;t matter           734\n",
       "capricorn but it doesn&rsquo;t matter             699\n",
       "pisces but it doesn&rsquo;t matter                664\n",
       "scorpio but it doesn&rsquo;t matter               650\n",
       "leo                                               494\n",
       "cancer                                            485\n",
       "libra                                             464\n",
       "virgo                                             436\n",
       "taurus                                            428\n",
       "aries                                             415\n",
       "gemini                                            413\n",
       "pisces                                            409\n",
       "sagittarius                                       407\n",
       "scorpio                                           406\n",
       "aquarius                                          394\n",
       "capricorn                                         364\n",
       "scorpio and it matters a lot                       49\n",
       "aquarius and it matters a lot                      43\n",
       "pisces and it matters a lot                        38\n",
       "leo and it matters a lot                           37\n",
       "gemini and it matters a lot                        36\n",
       "cancer and it matters a lot                        34\n",
       "libra and it matters a lot                         34\n",
       "aries and it matters a lot                         33\n",
       "sagittarius and it matters a lot                   33\n",
       "capricorn and it matters a lot                     26\n",
       "taurus and it matters a lot                        26\n",
       "virgo and it matters a lot                         26\n",
       "Name: sign, dtype: int64"
      ]
     },
     "execution_count": 61,
     "metadata": {},
     "output_type": "execute_result"
    }
   ],
   "source": [
    "# Cleaning data\n",
    "# print(profiles.info())\n",
    "\n",
    "# most features have close to 50k non-null entries. The ones with less are diet, offspring, religion and essay8. Why?\n",
    "# how many have all non-null?\n",
    "\n",
    "#Max is 59946\n",
    "# print(profiles.count()>50000)\n",
    "# print(profiles[profiles['income'] > 50000].count())\n",
    "\n",
    "profiles_no_na = profiles.dropna(subset=language_features)\n",
    "print(profiles_no_na.info())\n",
    "# only 4407 are filled completely. Therefore we must dropna pairwise, not listwise, or we would lose too much data.\n",
    "profiles_no_na.sign.value_counts()"
   ]
  },
  {
   "cell_type": "markdown",
   "metadata": {},
   "source": [
    "## Analysis starts with KMeans.\n",
    "KMeans will inform us:\n",
    "- What are the clusters in this data? \n",
    "- which dimensions best define the clusters? \n",
    "optimise with different features\n",
    "Maximising accuracy score for KMeans"
   ]
  },
  {
   "cell_type": "code",
   "execution_count": null,
   "metadata": {},
   "outputs": [],
   "source": [
    "# Starting with just categorical features, Kmeans\n",
    "df = profiles[categorical_features]\n",
    "\n",
    "x_train, y_train, x_test, y_test\n"
   ]
  }
 ],
 "metadata": {
  "kernelspec": {
   "display_name": "Python 3 (ipykernel)",
   "language": "python",
   "name": "python3"
  },
  "language_info": {
   "codemirror_mode": {
    "name": "ipython",
    "version": 3
   },
   "file_extension": ".py",
   "mimetype": "text/x-python",
   "name": "python",
   "nbconvert_exporter": "python",
   "pygments_lexer": "ipython3",
   "version": "3.9.13"
  }
 },
 "nbformat": 4,
 "nbformat_minor": 4
}
